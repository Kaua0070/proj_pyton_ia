{
  "cells": [
    {
      "cell_type": "code",
      "execution_count": null,
      "metadata": {
        "colab": {
          "base_uri": "https://localhost:8080/"
        },
        "id": "UPnSVro644AN",
        "outputId": "1a68b1d9-de88-4345-d950-01ea2b89251a"
      },
      "outputs": [
        {
          "name": "stdout",
          "output_type": "stream",
          "text": [
            "Requirement already satisfied: nltk in /usr/local/lib/python3.10/dist-packages (3.8.1)\n",
            "Requirement already satisfied: textblob in /usr/local/lib/python3.10/dist-packages (0.17.1)\n",
            "Requirement already satisfied: click in /usr/local/lib/python3.10/dist-packages (from nltk) (8.1.7)\n",
            "Requirement already satisfied: joblib in /usr/local/lib/python3.10/dist-packages (from nltk) (1.4.2)\n",
            "Requirement already satisfied: regex>=2021.8.3 in /usr/local/lib/python3.10/dist-packages (from nltk) (2024.9.11)\n",
            "Requirement already satisfied: tqdm in /usr/local/lib/python3.10/dist-packages (from nltk) (4.66.5)\n"
          ]
        }
      ],
      "source": [
        "pip install nltk textblob"
      ]
    },
    {
      "cell_type": "code",
      "execution_count": 20,
      "metadata": {
        "id": "bbpeoGUz6gjr"
      },
      "outputs": [],
      "source": [
        "import nltk\n",
        "from nltk.corpus import stopwords\n",
        "from nltk.tokenize import word_tokenize\n",
        "from textblob import TextBlob"
      ]
    },
    {
      "cell_type": "code",
      "execution_count": 21,
      "metadata": {
        "colab": {
          "base_uri": "https://localhost:8080/"
        },
        "id": "fHn7oF6N9Lrm",
        "outputId": "a49a67ec-48c1-40ea-d79d-e9a3b5e40099"
      },
      "outputs": [
        {
          "name": "stderr",
          "output_type": "stream",
          "text": [
            "[nltk_data] Downloading package punkt to /root/nltk_data...\n",
            "[nltk_data]   Package punkt is already up-to-date!\n",
            "[nltk_data] Downloading package stopwords to /root/nltk_data...\n",
            "[nltk_data]   Package stopwords is already up-to-date!\n"
          ]
        },
        {
          "data": {
            "text/plain": [
              "True"
            ]
          },
          "execution_count": 21,
          "metadata": {},
          "output_type": "execute_result"
        }
      ],
      "source": [
        "nltk.download('punkt')\n",
        "nltk.download('stopwords')"
      ]
    },
    {
      "cell_type": "code",
      "execution_count": 22,
      "metadata": {
        "id": "RdE9A82XB2C-"
      },
      "outputs": [],
      "source": [
        "def preprocesso(texto):\n",
        "  tokens = word_tokenize(texto.lower())\n",
        "\n",
        "  espacos = set(stopwords.words('english'))\n",
        "\n",
        "  tokens_filtrados = [palavra for palavra in tokens if palavra.isalnum() and palavra not in espacos]\n",
        "\n",
        "  return \" \".join(tokens_filtrados)"
      ]
    },
    {
      "cell_type": "code",
      "execution_count": 23,
      "metadata": {
        "id": "XJ3PI45LH4TS"
      },
      "outputs": [],
      "source": [
        "def sentimentos(texto):\n",
        "  texto_limpo = preprocesso(texto)\n",
        "\n",
        "  blob = TextBlob(texto_limpo)\n",
        "\n",
        "  sentimento = blob.sentiment.polarity\n",
        "\n",
        "  return sentimento"
      ]
    },
    {
      "cell_type": "code",
      "execution_count": 24,
      "metadata": {
        "id": "zAhorAxDLPxF"
      },
      "outputs": [],
      "source": [
        "frases = [\"This app helped me find my perfect match; the user experience is seamless and intuitive!\",\n",
        "          \"The variety of profiles is amazing, making it easy to connect with interesting people.\",\n",
        "          \"I love the messaging feature; it allows for meaningful conversations right from the start!\",\n",
        "          \"This app has a fantastic community; everyone is supportive and friendly.\",\n",
        "          \"The design is modern and appealing, making the whole experience enjoyable!\",\n",
        "          \"I encountered too many fake profiles, which made the experience frustrating.,\",\n",
        "          \"The matching algorithm seems off; I keep getting suggestions that don’t align with my interests.\",\n",
        "          \"The app crashes frequently, making it hard to have smooth conversations.\",\n",
        "          \"I wish there were more filters to refine my search; it feels overwhelming at times.\",\n",
        "          \"Customer support is lacking; it took too long to get a response to my issue.\"]"
      ]
    },
    {
      "cell_type": "code",
      "execution_count": 25,
      "metadata": {
        "colab": {
          "base_uri": "https://localhost:8080/"
        },
        "id": "x326QCpGOcKr",
        "outputId": "5f27b49b-7da8-449b-b017-633b1a809877"
      },
      "outputs": [
        {
          "name": "stdout",
          "output_type": "stream",
          "text": [
            "This app helped me find my perfect match; the user experience is seamless and intuitive!: This app helped me find my perfect match; the user experience is seamless and intuitive!\n",
            "Pontuação:0.55\n",
            "The variety of profiles is amazing, making it easy to connect with interesting people.: The variety of profiles is amazing, making it easy to connect with interesting people.\n",
            "Pontuação:0.5111111111111112\n",
            "I love the messaging feature; it allows for meaningful conversations right from the start!: I love the messaging feature; it allows for meaningful conversations right from the start!\n",
            "Pontuação:0.42857142857142855\n",
            "This app has a fantastic community; everyone is supportive and friendly.: This app has a fantastic community; everyone is supportive and friendly.\n",
            "Pontuação:0.425\n",
            "The design is modern and appealing, making the whole experience enjoyable!: The design is modern and appealing, making the whole experience enjoyable!\n",
            "Pontuação:0.35\n",
            "I encountered too many fake profiles, which made the experience frustrating.,: I encountered too many fake profiles, which made the experience frustrating.,\n",
            "Pontuação:0.0\n",
            "The matching algorithm seems off; I keep getting suggestions that don’t align with my interests.: The matching algorithm seems off; I keep getting suggestions that don’t align with my interests.\n",
            "Pontuação:0.0\n",
            "The app crashes frequently, making it hard to have smooth conversations.: The app crashes frequently, making it hard to have smooth conversations.\n",
            "Pontuação:0.06944444444444445\n",
            "I wish there were more filters to refine my search; it feels overwhelming at times.: I wish there were more filters to refine my search; it feels overwhelming at times.\n",
            "Pontuação:0.5\n",
            "Customer support is lacking; it took too long to get a response to my issue.: Customer support is lacking; it took too long to get a response to my issue.\n",
            "Pontuação:-0.05\n"
          ]
        }
      ],
      "source": [
        "for comentario in frases:\n",
        "  nivel = sentimentos(comentario)\n",
        "  print(f\"{comentario}: {comentario}\\nPontuação:{nivel}\")"
      ]
    }
  ],
  "metadata": {
    "colab": {
      "provenance": []
    },
    "kernelspec": {
      "display_name": "Python 3",
      "name": "python3"
    },
    "language_info": {
      "name": "python"
    }
  },
  "nbformat": 4,
  "nbformat_minor": 0
}
